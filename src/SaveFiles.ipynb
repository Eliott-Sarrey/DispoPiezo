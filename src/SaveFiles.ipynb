{
 "cells": [
  {
   "cell_type": "code",
   "execution_count": 1,
   "metadata": {},
   "outputs": [
    {
     "ename": "NameError",
     "evalue": "name 'np' is not defined",
     "output_type": "error",
     "traceback": [
      "\u001b[0;31m---------------------------------------------------------------------------\u001b[0m",
      "\u001b[0;31mNameError\u001b[0m                                 Traceback (most recent call last)",
      "\u001b[0;32m<ipython-input-1-9bed35146b3c>\u001b[0m in \u001b[0;36m<module>\u001b[0;34m\u001b[0m\n\u001b[1;32m      1\u001b[0m \u001b[0mget_ipython\u001b[0m\u001b[0;34m(\u001b[0m\u001b[0;34m)\u001b[0m\u001b[0;34m.\u001b[0m\u001b[0msystem\u001b[0m\u001b[0;34m(\u001b[0m\u001b[0;34m\"jupyter nbconvert --RegexRemovePreprocessor.patterns '# NOTINREPORT' Measurements.ipynb --no-input --to pdf  --output {sampleName.value+'.report'} --output-dir {folder}\"\u001b[0m\u001b[0;34m)\u001b[0m\u001b[0;34m\u001b[0m\u001b[0;34m\u001b[0m\u001b[0m\n\u001b[1;32m      2\u001b[0m \u001b[0;34m\u001b[0m\u001b[0m\n\u001b[0;32m----> 3\u001b[0;31m np.savetxt( folder+'{}.data.csv'.format(sampleName.value),\n\u001b[0m\u001b[1;32m      4\u001b[0m                 \u001b[0mnp\u001b[0m\u001b[0;34m.\u001b[0m\u001b[0masarray\u001b[0m\u001b[0;34m(\u001b[0m\u001b[0mexportData\u001b[0m\u001b[0;34m)\u001b[0m\u001b[0;34m.\u001b[0m\u001b[0mtranspose\u001b[0m\u001b[0;34m(\u001b[0m\u001b[0;34m)\u001b[0m\u001b[0;34m,\u001b[0m\u001b[0;34m\u001b[0m\u001b[0;34m\u001b[0m\u001b[0m\n\u001b[1;32m      5\u001b[0m                 \u001b[0mheader\u001b[0m\u001b[0;34m=\u001b[0m\u001b[0mexportHeader\u001b[0m\u001b[0;34m,\u001b[0m\u001b[0;34m\u001b[0m\u001b[0;34m\u001b[0m\u001b[0m\n",
      "\u001b[0;31mNameError\u001b[0m: name 'np' is not defined"
     ]
    }
   ],
   "source": [
    "%%capture\n",
    "\n",
    "!jupyter nbconvert --RegexRemovePreprocessor.patterns '# NOTINREPORT' Measurements.ipynb --no-input --to pdf  --output {sampleName+'.report'} --output-dir {folder} \n",
    "\n",
    "np.savetxt( folder+sampleName+'.data.csv',\n",
    "                np.asarray(exportData).transpose(),\n",
    "                header=exportHeader,\n",
    "                delimiter=\",\") "
   ]
  },
  {
   "cell_type": "code",
   "execution_count": 44,
   "metadata": {},
   "outputs": [],
   "source": [
    "import numpy as np\n",
    "np.savetxt( './parameters.csv',\n",
    "            [['0', '1', 'dts']],\n",
    "            delimiter=\",\",\n",
    "            fmt='%s',\n",
    "            header = 'a, b, c'\n",
    "            )"
   ]
  },
  {
   "cell_type": "code",
   "execution_count": 57,
   "metadata": {},
   "outputs": [
    {
     "name": "stdout",
     "output_type": "stream",
     "text": [
      "['klsd' '3.0' '0.0' '0.0' '0.0' '0.0']\n"
     ]
    }
   ],
   "source": [
    "parameters = np.loadtxt('./parameters.csv', delimiter=\",\", comments='#', dtype=str)\n",
    "\n",
    "sampleName = parameters[0]\n",
    "measureDuration = parameters[1]\n",
    "Rload = parameters[2]\n",
    "nbCycles = parameters[3]\n",
    "Rcircuit = parameters[4]\n",
    "fourrierMaxFreq = parameters[5]\n",
    "\n"
   ]
  }
 ],
 "metadata": {
  "interpreter": {
   "hash": "bf9cb2bfe9c418964697066548b69588e989c8155a0e44573af2390d7f5665bc"
  },
  "kernelspec": {
   "display_name": "Python 3.8.8 ('base')",
   "language": "python",
   "name": "python3"
  },
  "language_info": {
   "codemirror_mode": {
    "name": "ipython",
    "version": 3
   },
   "file_extension": ".py",
   "mimetype": "text/x-python",
   "name": "python",
   "nbconvert_exporter": "python",
   "pygments_lexer": "ipython3",
   "version": "3.8.8"
  },
  "orig_nbformat": 4
 },
 "nbformat": 4,
 "nbformat_minor": 2
}

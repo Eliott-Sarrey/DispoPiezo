{
 "cells": [
  {
   "cell_type": "code",
   "execution_count": null,
   "metadata": {},
   "outputs": [],
   "source": [
    "#%%capture\n",
    "!jupyter nbconvert Measurements.ipynb --RegexRemovePreprocessor.patterns \"# NOTINREPORT\" --no-input --to pdf  --output {sampleName+'.report'} --output-dir {folder} \n",
    "\n",
    "np.savetxt( folder+sampleName+'.data.csv',\n",
    "                np.asarray(exportData, dtype=np.double).transpose(),\n",
    "                header=exportHeader,\n",
    "                delimiter=\",\") \n",
    "print('[SaveTXT] CSV successfully created')\n",
    "print('[SaveTXT] Writing to {}'.format(folder+sampleName+'.data.csv'))"
   ]
  }
 ],
 "metadata": {
  "interpreter": {
   "hash": "bf9cb2bfe9c418964697066548b69588e989c8155a0e44573af2390d7f5665bc"
  },
  "kernelspec": {
   "display_name": "Python 3.8.8 ('base')",
   "language": "python",
   "name": "python3"
  },
  "language_info": {
   "codemirror_mode": {
    "name": "ipython",
    "version": 3
   },
   "file_extension": ".py",
   "mimetype": "text/x-python",
   "name": "python",
   "nbconvert_exporter": "python",
   "pygments_lexer": "ipython3",
   "version": "3.8.8"
  },
  "orig_nbformat": 4
 },
 "nbformat": 4,
 "nbformat_minor": 2
}

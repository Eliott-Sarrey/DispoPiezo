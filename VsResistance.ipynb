{
 "cells": [
  {
   "cell_type": "markdown",
   "metadata": {},
   "source": [
    "# PARAMETERS"
   ]
  },
  {
   "cell_type": "code",
   "execution_count": 18,
   "metadata": {},
   "outputs": [
    {
     "data": {
      "application/vnd.jupyter.widget-view+json": {
       "model_id": "06b81b71d95e4bf88d4daf0cadbcaf1c",
       "version_major": 2,
       "version_minor": 0
      },
      "text/plain": [
       "HBox(children=(Label(value='Sample name :'), Text(value='ES.PVDF.E0.0m.100nm.5.12Hz', placeholder='Custom Name…"
      ]
     },
     "metadata": {},
     "output_type": "display_data"
    },
    {
     "data": {
      "application/vnd.jupyter.widget-view+json": {
       "model_id": "c684b20be8da49bbb7e72a33ce8c340c",
       "version_major": 2,
       "version_minor": 0
      },
      "text/plain": [
       "HBox(children=(Label(value='Measure duration [s] :'), parameter(value=2.147483648, continuous_update=True, ste…"
      ]
     },
     "metadata": {},
     "output_type": "display_data"
    },
    {
     "data": {
      "application/vnd.jupyter.widget-view+json": {
       "model_id": "599ade9369394257acaef38db0ffcd29",
       "version_major": 2,
       "version_minor": 0
      },
      "text/plain": [
       "HBox(children=(Label(value='Circuit resistance [Ohms] :'), parameter(value=1.0, continuous_update=True, step=1…"
      ]
     },
     "metadata": {},
     "output_type": "display_data"
    },
    {
     "data": {
      "application/vnd.jupyter.widget-view+json": {
       "model_id": "5e208d4b6a8b463cb2ad1834f64ece1e",
       "version_major": 2,
       "version_minor": 0
      },
      "text/plain": [
       "Button(description='Save parameters', style=ButtonStyle())"
      ]
     },
     "metadata": {},
     "output_type": "display_data"
    },
    {
     "data": {
      "application/vnd.jupyter.widget-view+json": {
       "model_id": "382343900d12407c9075c8addd23b5fa",
       "version_major": 2,
       "version_minor": 0
      },
      "text/plain": [
       "Output()"
      ]
     },
     "metadata": {},
     "output_type": "display_data"
    }
   ],
   "source": [
    "# NOTINREPORT\n",
    "%run ./src/Modules.ipynb   \n",
    "changeParameters(lr = False, nbp = False, mfa = False)\n",
    "\n",
    "\n",
    "button = widgets.Button(description=\"Save parameters\")\n",
    "output = widgets.Output()\n",
    "\n",
    "display(button, output)\n",
    "\n",
    "def on_button_clicked(b):\n",
    "    np.savetxt( './src/parameters.csv',\n",
    "            [[sampleName_p.value,previousPowerOf2(int(min(10, measureDuration_p.value)* 125e6 / 16384)) * 16384 / 125e6, Rload_p.value, nbCycles_p.value, Rcircuit_p.value, fourrierMaxFreq_p.value]],\n",
    "            delimiter=\",\",\n",
    "            fmt='%s',\n",
    "            header = 'Sample name, Measure duration, Rload, Nb Periods, R Circuit, Max Frequency'\n",
    "            )\n",
    "        \n",
    "button.on_click(on_button_clicked)"
   ]
  },
  {
   "cell_type": "code",
   "execution_count": 19,
   "metadata": {},
   "outputs": [
    {
     "name": "stdout",
     "output_type": "stream",
     "text": [
      "Sample name: ES.PVDF.E0.0m.100nm.5.12Hz\n"
     ]
    }
   ],
   "source": [
    "### Print sample name and define folder\n",
    "parameters = np.loadtxt('./src/parameters.csv', delimiter=\",\", comments='#', dtype=str)\n",
    "sampleName = parameters[0]\n",
    "\n",
    "folder = './data/{}/{}_{}/{}/{}h{}/{}/'.format(date.today().strftime('%Y'), date.today().strftime('%m'), date.today().strftime('%B'), date.today().strftime('%d'), str(time.localtime().tm_hour).zfill(2), str(time.localtime().tm_min).zfill(2), sampleName)\n",
    "\n",
    "print('Sample name: ' + str(sampleName))"
   ]
  },
  {
   "cell_type": "code",
   "execution_count": 20,
   "metadata": {},
   "outputs": [
    {
     "data": {
      "text/html": [
       "<div>\n",
       "<style scoped>\n",
       "    .dataframe tbody tr th:only-of-type {\n",
       "        vertical-align: middle;\n",
       "    }\n",
       "\n",
       "    .dataframe tbody tr th {\n",
       "        vertical-align: top;\n",
       "    }\n",
       "\n",
       "    .dataframe thead th {\n",
       "        text-align: right;\n",
       "    }\n",
       "</style>\n",
       "<table border=\"1\" class=\"dataframe\">\n",
       "  <thead>\n",
       "    <tr style=\"text-align: right;\">\n",
       "      <th></th>\n",
       "      <th>Parameter</th>\n",
       "      <th>Value</th>\n",
       "      <th>Unit</th>\n",
       "    </tr>\n",
       "  </thead>\n",
       "  <tbody>\n",
       "    <tr>\n",
       "      <th>0</th>\n",
       "      <td>Sample name</td>\n",
       "      <td>ES.PVDF.E0.0m.100nm.5.12Hz</td>\n",
       "      <td></td>\n",
       "    </tr>\n",
       "    <tr>\n",
       "      <th>1</th>\n",
       "      <td>Measure duration</td>\n",
       "      <td>2.147483648</td>\n",
       "      <td>[s]</td>\n",
       "    </tr>\n",
       "    <tr>\n",
       "      <th>2</th>\n",
       "      <td>R Circuit</td>\n",
       "      <td>1.0</td>\n",
       "      <td>[Ohms]</td>\n",
       "    </tr>\n",
       "  </tbody>\n",
       "</table>\n",
       "</div>"
      ],
      "text/latex": [
       "\\begin{tabular}{llll}\n",
       "\\toprule\n",
       "{} &         Parameter &                       Value &    Unit \\\\\n",
       "\\midrule\n",
       "0 &       Sample name &  ES.PVDF.E0.0m.100nm.5.12Hz &         \\\\\n",
       "1 &  Measure duration &                 2.147483648 &     [s] \\\\\n",
       "2 &         R Circuit &                         1.0 &  [Ohms] \\\\\n",
       "\\bottomrule\n",
       "\\end{tabular}\n"
      ],
      "text/plain": [
       "          Parameter                       Value    Unit\n",
       "0       Sample name  ES.PVDF.E0.0m.100nm.5.12Hz        \n",
       "1  Measure duration                 2.147483648     [s]\n",
       "2         R Circuit                         1.0  [Ohms]"
      ]
     },
     "execution_count": 20,
     "metadata": {},
     "output_type": "execute_result"
    }
   ],
   "source": [
    "### Print parameters\n",
    "\n",
    "parameters = np.loadtxt('./src/parameters.csv', delimiter=\",\", comments='#', dtype=str)\n",
    "\n",
    "measureDuration = float(parameters[1])\n",
    "Rcircuit = float(parameters[4])\n",
    "\n",
    "pd.DataFrame(   np.array([\n",
    "                ['Sample name', 'Measure duration', 'R Circuit'],\n",
    "                [sampleName, measureDuration, Rcircuit],\n",
    "                ['', '[s]', '[Ohms]'] ]).transpose(),\n",
    "                columns=['Parameter', 'Value', 'Unit'],\n",
    "            )"
   ]
  },
  {
   "cell_type": "markdown",
   "metadata": {},
   "source": [
    "# MEASUREMENTS\n",
    "\n",
    "A window will apppear and ask for the resistance value you selected. Write it down using the following format:\n",
    "1000 or 1e3 or 1E3\n",
    "Then press enter and wait for the window to appear again for the next measurement.\n",
    "When the number of measurements is sufficient, write done in the window instead of the resistance value and press enter. This will record and stop the experiment."
   ]
  },
  {
   "cell_type": "code",
   "execution_count": 21,
   "metadata": {},
   "outputs": [
    {
     "name": "stdout",
     "output_type": "stream",
     "text": [
      "Please use the following format: 100 or 1e2\n"
     ]
    }
   ],
   "source": [
    "RloadArr = []\n",
    "VmeanArr = []\n",
    "PmeanArr = []\n",
    "MaxPressArr = []\n",
    "\n",
    "\n",
    "while 1:\n",
    "    inP = ''\n",
    "    while inP.replace('e', '').replace('E', '').replace('.', '').isdigit() == False and inP != 'done':\n",
    "        inP = input('Load resistance [Ohms]')\n",
    "        if inP.replace('e', '').replace('E', '').replace('.', '').isdigit() == False and inP != 'done':\n",
    "            print('Please use the following format: 100 or 1e2')\n",
    "    if inP == 'done': break\n",
    "    Rload = float(inP)\n",
    "    \n",
    "    # Perform measurements\n",
    "    # Update the folder with the date/time of the experiment\n",
    "    folder              = './data/{}/{}_{}/{}/{}h{}/{}/'.format(date.today().strftime('%Y'), date.today().strftime('%m'), date.today().strftime('%B'), date.today().strftime('%d'), str(time.localtime().tm_hour).zfill(2), str(time.localtime().tm_min).zfill(2), sampleName)\n",
    "\n",
    "    voltage, pressure   = getRFInputs(measureDuration)                                          # Get data from RedPitaya\n",
    "    pressure.y          /= 2     \n",
    "    power               = data( voltage.t, voltage.y ** 2 / ( Rload + Rcircuit ))                                                                # Convert from V to Bar\n",
    "\n",
    "\n",
    "    MaxPressArr.append(np.max(pressure.y))\n",
    "    RloadArr.append(Rload)\n",
    "    VmeanArr.append(np.mean(abs(voltage.y)))\n",
    "    PmeanArr.append(np.mean(abs(power.y)))\n",
    "\n",
    "Rload = np.array(Rload) + Rcircuit\n",
    "    "
   ]
  },
  {
   "cell_type": "markdown",
   "metadata": {},
   "source": [
    "# GRAPHS"
   ]
  },
  {
   "cell_type": "code",
   "execution_count": 22,
   "metadata": {},
   "outputs": [
    {
     "name": "stderr",
     "output_type": "stream",
     "text": [
      "C:\\ProgramData\\Anaconda3\\lib\\site-packages\\numpy\\core\\fromnumeric.py:3702: RuntimeWarning: Degrees of freedom <= 0 for slice\n",
      "  return _methods._var(a, axis=axis, dtype=dtype, out=out, ddof=ddof,\n",
      "C:\\ProgramData\\Anaconda3\\lib\\site-packages\\numpy\\core\\_methods.py:221: RuntimeWarning: invalid value encountered in true_divide\n",
      "  arrmean = um.true_divide(arrmean, div, out=arrmean, casting='unsafe',\n",
      "C:\\ProgramData\\Anaconda3\\lib\\site-packages\\numpy\\core\\_methods.py:253: RuntimeWarning: invalid value encountered in double_scalars\n",
      "  ret = ret.dtype.type(ret / rcount)\n"
     ]
    },
    {
     "name": "stdout",
     "output_type": "stream",
     "text": [
      "Pressure variance: nan\n",
      "Excitation frequency [Hz] : 5.122586818271989\n"
     ]
    },
    {
     "data": {
      "image/png": "[encoded data removed]",
      "text/plain": [
       "<Figure size 1800x800 with 2 Axes>"
      ]
     },
     "metadata": {},
     "output_type": "display_data"
    }
   ],
   "source": [
    "VmeanData = graph(RloadArr, VmeanArr, 'Rload [Ohms]', 'Mean voltage [V]', 'Voltage Vs Load resistance')\n",
    "PmeanData = graph(RloadArr, PmeanArr, 'Rload [Ohms]', 'Mean power [W]', 'Power Vs Load resistance')\n",
    "print('Pressure variance: '+str(np.var(MaxPressArr)))\n",
    "print('Excitation frequency [Hz] : '+str(pressure.getFrequency()))\n",
    "plotGraph([VmeanData], [PmeanData], 'VsResistance', log=True, points = True)\n",
    "\n",
    "exportData = [RloadArr, VmeanArr, PmeanArr]\n",
    "exportHeader = \"R load [Ohms], Mean absolute voltage [V], Mean instant power [W]\"\n",
    "\n",
    "np.savetxt( folder+sampleName+'.data.csv',\n",
    "                np.asarray(exportData, dtype=np.double).transpose(),\n",
    "                header=exportHeader,\n",
    "                delimiter=\",\") "
   ]
  }
 ],
 "metadata": {
  "interpreter": {
   "hash": "b3ba2566441a7c06988d0923437866b63cedc61552a5af99d1f4fb67d367b25f"
  },
  "kernelspec": {
   "display_name": "Python 3.9.7 ('base')",
   "language": "python",
   "name": "python3"
  },
  "language_info": {
   "codemirror_mode": {
    "name": "ipython",
    "version": 3
   },
   "file_extension": ".py",
   "mimetype": "text/x-python",
   "name": "python",
   "nbconvert_exporter": "python",
   "pygments_lexer": "ipython3",
   "version": "3.9.7"
  },
  "orig_nbformat": 4
 },
 "nbformat": 4,
 "nbformat_minor": 2
}
